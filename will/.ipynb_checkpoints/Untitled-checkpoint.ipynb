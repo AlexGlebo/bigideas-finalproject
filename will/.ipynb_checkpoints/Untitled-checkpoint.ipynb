{
 "cells": [
  {
   "cell_type": "code",
   "execution_count": 1,
   "metadata": {},
   "outputs": [
    {
     "name": "stdout",
     "output_type": "stream",
     "text": [
      "neighborhood\n",
      "Allegheny Center     15\n",
      "Allentown             4\n",
      "Banksville            6\n",
      "Bedford Dwellings     3\n",
      "Beechview            21\n",
      "Name: has_playground, dtype: int64\n"
     ]
    }
   ],
   "source": [
    "import pandas as pd\n",
    "import numpy as np\n",
    "%matplotlib inline\n",
    "import matplotlib.pyplot as plt\n",
    "import geopandas\n",
    "\n",
    "playgrounds = pd.read_csv(\"playgrounds.csv\")\n",
    "neighborhoods = geopandas.read_file(\"Neighborhoods/Neighborhoods_.shp\")\n",
    "\n",
    "has_playground = []\n",
    "for i in range(len(playgrounds['neighborhood'])):\n",
    "    has_playground.append(1)\n",
    "playgrounds['has_playground'] = has_playground\n",
    "num_playgrounds = playgrounds.groupby(\"neighborhood\").sum()['has_playground']\n",
    "num_playgrounds.sort_values(ascending=False)\n",
    "playgrounds_map = neighborhoods.merge(num_playgrounds, left_on='hood', right_on='neighborhood')\n",
    "steps_map.plot(column='has_playground', # set the data to be used for coloring\n",
    "    cmap='OrRd',              # choose a color palette\\n\",\n",
    "    edgecolor=\"black\",        # outline the districts in white\n",
    "    legend=True,              # show the legend\\n\",\n",
    "    legend_kwds={'label': \"Number of Playgrounds\"}, # label the legend\n",
    "    figsize=(15, 10),         # set the size\n",
    "    missing_kwds={\"color\": \"lightgrey\"} # set disctricts with no data to gray\n",
    "    )"
   ]
  },
  {
   "cell_type": "code",
   "execution_count": null,
   "metadata": {},
   "outputs": [],
   "source": []
  }
 ],
 "metadata": {
  "kernelspec": {
   "display_name": "Python 3 (ipykernel)",
   "language": "python",
   "name": "python3"
  },
  "language_info": {
   "codemirror_mode": {
    "name": "ipython",
    "version": 3
   },
   "file_extension": ".py",
   "mimetype": "text/x-python",
   "name": "python",
   "nbconvert_exporter": "python",
   "pygments_lexer": "ipython3",
   "version": "3.8.3"
  }
 },
 "nbformat": 4,
 "nbformat_minor": 4
}

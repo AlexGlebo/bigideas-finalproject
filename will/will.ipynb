{
 "cells": [
  {
   "cell_type": "markdown",
   "metadata": {},
   "source": [
    "# Playgrounds in the City of Pittsburgh"
   ]
  },
  {
   "cell_type": "markdown",
   "metadata": {},
   "source": [
    "### Introduction\n",
    "While scrolling through the WPDRC datasets, I realized that many were regarding heavy topics such as crime and fires. While it is important data that can say a lot about a neighborhood, I wanted to pick a more fun or lighthearted metric.\n",
    "\n",
    "When I imagine a good neighborhood, I think of somewhere that is both peaceful and friendly. I think a playground is the perfect embodiment of these characteristics. I found a dataset that contained all the playgrounds in the City of Pittsburgh, so I knew it was what I wanted to analyze."
   ]
  },
  {
   "cell_type": "markdown",
   "metadata": {},
   "source": [
    "### The Metric\n",
    "\n",
    "My metric is simple: a count of the number of playgrounds in each neighborhood. From there, the neighborhoods are ranked by highest number of playgrounds to least. The dataset I simply lists all playgrounds in the city and provides some information about each, including neighborhood and address. "
   ]
  },
  {
   "cell_type": "markdown",
   "metadata": {},
   "source": [
    "#### The Best Neighborhood\n",
    "\n",
    "The first step was to import the pandas and geopandas libraries, which are used for data processing and visualization. Then, I had to read the playground data into a pandas dataframe and the neighborhood shapefile into a geopandas dataframe."
   ]
  },
  {
   "cell_type": "code",
   "execution_count": 1,
   "metadata": {},
   "outputs": [],
   "source": [
    "import pandas as pd\n",
    "import geopandas\n",
    "\n",
    "playgrounds = pd.read_csv(\"playgrounds.csv\")\n",
    "neighborhoods = geopandas.read_file(\"Neighborhoods/Neighborhoods_.shp\") "
   ]
  },
  {
   "cell_type": "markdown",
   "metadata": {},
   "source": [
    "Then, I added a series to my playgrounds dataframe that gave each a playground a value of 1, so that I could sum the number of playgrounds for each neighborhood. Once that series was added to the existing dataframe, I grouped and sorted by number of playgrounds per neighborhood. Finally, we can see which neighborhood has the most playgrounds out of the entire city."
   ]
  },
  {
   "cell_type": "code",
   "execution_count": 3,
   "metadata": {},
   "outputs": [
    {
     "name": "stdout",
     "output_type": "stream",
     "text": [
      "neighborhood\n",
      "Squirrel Hill South    32\n",
      "East Liberty           26\n",
      "Beechview              21\n",
      "Allegheny Center       15\n",
      "South Side Slopes      14\n",
      "                       ..\n",
      "Westwood                2\n",
      "East Carnegie           2\n",
      "Lower Lawrenceville     2\n",
      "West Oakland            1\n",
      "Strip District          1\n",
      "Name: has_playground, Length: 68, dtype: int64\n"
     ]
    }
   ],
   "source": [
    "has_playground = []\n",
    "for i in range(len(playgrounds['neighborhood'])):\n",
    "    has_playground.append(1)\n",
    "playgrounds['has_playground'] = has_playground\n",
    "num_playgrounds = playgrounds.groupby(\"neighborhood\").sum()['has_playground']\n",
    "num_playgrounds = num_playgrounds.sort_values(ascending=False)\n",
    "print(num_playgrounds)"
   ]
  },
  {
   "cell_type": "markdown",
   "metadata": {},
   "source": [
    "The final step was to create a visualization. To do this, I had to merge the playgrounds dataframe with the geopandas neighborhood one. AFter"
   ]
  },
  {
   "cell_type": "code",
   "execution_count": null,
   "metadata": {},
   "outputs": [],
   "source": [
    "playgrounds_map = neighborhoods.merge(num_playgrounds, how='left', left_on='hood', right_on='neighborhood')\n",
    "playgrounds_map.plot(column='has_playground', # set the data to be used for coloring\n",
    "               cmap='OrRd',              # choose a color palette\n",
    "               edgecolor=\"black\",        # outline the districts in white\n",
    "               legend=True,              # show the legend\n",
    "               legend_kwds={'label': \"Number of Playgrounds\"}, # label the legend\n",
    "               figsize=(15, 10),         # set the size\n",
    "               missing_kwds={\"color\": \"lightgrey\"} # set disctricts with no data to gray\n",
    "               )"
   ]
  }
 ],
 "metadata": {
  "kernelspec": {
   "display_name": "Python 3 (ipykernel)",
   "language": "python",
   "name": "python3"
  },
  "language_info": {
   "codemirror_mode": {
    "name": "ipython",
    "version": 3
   },
   "file_extension": ".py",
   "mimetype": "text/x-python",
   "name": "python",
   "nbconvert_exporter": "python",
   "pygments_lexer": "ipython3",
   "version": "3.8.3"
  }
 },
 "nbformat": 4,
 "nbformat_minor": 4
}

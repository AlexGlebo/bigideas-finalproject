{
 "cells": [
  {
   "cell_type": "markdown",
   "metadata": {},
   "source": [
    "# Final Ranking\n",
    "\n",
    "Our final metric was just an aggregate ranking of each of our individual metric rankings. For the playgrounds metric, each neighborhood was ranked from most playgrounds to least. For the fires metric, the neighborhoods were ranked from least fires to most fires. And finally for the overdose incidents metric, the neighborhoods were ranked from least overdose incidents to most. \n",
    "\n",
    "To standardize rankings between each of our individual metrics, we assigned zipcodes to each neighborhood. Then we ranked averaged each neighborhood's 3 separate metrics into one final score. Below is the final ranking, with the \"final metric\" column showing the average rank for each neighborhood. We sorted by that column, and our top 3 neighborhoods Squirrel Hill in third place, Swisshelm Park in second, and Shadyside finished first."
   ]
  },
  {
   "cell_type": "markdown",
   "metadata": {},
   "source": [
    "![](finalranking.png)"
   ]
  },
  {
   "cell_type": "code",
   "execution_count": null,
   "metadata": {},
   "outputs": [],
   "source": []
  }
 ],
 "metadata": {
  "kernelspec": {
   "display_name": "Python 3 (ipykernel)",
   "language": "python",
   "name": "python3"
  },
  "language_info": {
   "codemirror_mode": {
    "name": "ipython",
    "version": 3
   },
   "file_extension": ".py",
   "mimetype": "text/x-python",
   "name": "python",
   "nbconvert_exporter": "python",
   "pygments_lexer": "ipython3",
   "version": "3.8.3"
  }
 },
 "nbformat": 4,
 "nbformat_minor": 4
}
